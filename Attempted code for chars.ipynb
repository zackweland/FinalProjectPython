{
 "cells": [
  {
   "cell_type": "code",
   "execution_count": 94,
   "metadata": {},
   "outputs": [
    {
     "data": {
      "text/plain": [
       "b\"Its wonderful to see you Gandalf!\\r\\nWhat news of the outside world? Tell me everything.\\r\\nYou know Bilbo, he\\xe2\\x80\\x99s got the whole place in an uproar.\\r\\nHalf the Shire\\xe2\\x80\\x99s been invited.\\r\\nHe is up to something.\\r\\nAll right then keep your secrets. Before you came along we Bagginses were very well thought of\\r\\nNever had any adventures or did anything unexpected\\r\\nWhatever you did, you\\xe2\\x80\\x99ve been officially labeled a disturber of the peace.\\r\\nGandalf, I\\xe2\\x80\\x99m glad you\\xe2\\x80\\x99re back.\\r\\nGo on Sam! Ask Rosie for a dance.\\r\\nOh no you don\\xe2\\x80\\x99t. Go on.\\r\\nBilbo? Bilbo, look out for the dragon!\\r\\nSpeech!\\r\\nBilbo! Bilbo!\\r\\nHe\\xe2\\x80\\x99s gone hasn\\xe2\\x80\\x99t he? He talked for so long about leaving. I didn\\xe2\\x80\\x99t think he\\xe2\\x80\\x99d really do it.\\r\\nGandalf?\\r\\nWhere are you going?\\r\\nWhat things?\\r\\nBut you\\xe2\\x80\\x99ve only just arrived! I don\\xe2\\x80\\x99t understand\\r\\nGoodnight Sam.\\r\\nHuh?!\\r\\nah!\\r\\nWhat are you doing?\\r\\nNothing. There\\xe2\\x80\\x99s nothing\\xe2\\x80\\xa6(Gandalf takes a sigh of relief.) Wait. There are markings. It\\xe2\\x80\\x99s some form of elvish. I can\\xe2\\x80\\x99t read it.\\r\\nMordor..?\\r\\nBilbo found it. In Gollum\\xe2\\x80\\x99s cave.\\r\\nBut he was destroyed. Sauron was destroyed\\r\\nAlright, we put it away. We keep it hidden. We never speak of it again. No one knows it\\xe2\\x80\\x99s here, do they? Do they, Gandalf?\\r\\nShire. Baggins. But that would lead them here!\\r\\nTake it Gandalf! Take it!\\r\\nYou must take it!\\r\\nI'm giving it to you!\\r\\nBut it cannot stay in the Shire!\\r\\nWhat must I do?\\r\\nWhere? Where do I go?\\r\\nBree. What about you?\\r\\nAnd the Ring will be safe there?\\r\\nI can cut across country easily enough.\\r\\nThis is what?\\r\\nCome on Sam. Remember what Bilbo used to say: \\xe2\\x80\\x9cIt\\xe2\\x80\\x99s a dangerous business\\xe2\\x80\\xa6 (voice over of Bilbo)\\xe2\\x80\\xa6Frodo, going out your door. You step onto the road, and if you don\\xe2\\x80\\x99t keep your feet, there\\xe2\\x80\\x99s no knowing where you might be swept off to.\\xe2\\x80\\x9d\\r\\nWhat are you talking about?\\r\\nWhat did he say?\\r\\nSam, we\\xe2\\x80\\x99re still in the Shire. What could possibly happen?\\r\\nI think we should get off the road.\\r\\nGet off the road! Quick!\\r\\nNothing.\\r\\nI have to leave the Shire. Sam and I must get to Bree.\\r\\nGo!\\r\\nHow far to the nearest crossing?\\r\\nW're heading for the prancing pony.\\r\\nWe wish to stay at the inn. Our business is our own.\\r\\nExcuse me?\\r\\n\\xe2\\x80\\xa6Underhill, my name\\xe2\\x80\\x99s Underhill.\\r\\nWe\\xe2\\x80\\x99re friends of Gandalf the Grey. Can you tell him we\\xe2\\x80\\x99ve arrived?\\r\\nSam. He\\xe2\\x80\\x99ll be here. He\\xe2\\x80\\x99ll come.Excuse me, that man in the corner, who is he?\\r\\nStrider.\\r\\nPippin!\\r\\nAh!\\r\\nWhat do you want?\\r\\nI carry nothing.\\r\\nWho are you?\\r\\nYes.\\r\\nWhat are they?\\r\\nWhere are you taking us?\\r\\nWe have no choice but to trust him.\\r\\nWhat are you doing?!\\r\\nPutit out you fools! Put it out!\\r\\nGo!\\r\\nOh Sam!\\r\\n...Gandalf!\\r\\nWhere am I?\\r\\nGandalf!\\r\\nWhat happened Gandalf? Why didn't you meet us?\\r\\nGandalf? What is it?\\r\\nSam!\\r\\nBilbo!\\r\\nBilbo!\\r\\n\\xe2\\x80\\x9cThere and Back Again: A Hobbit\\xe2\\x80\\x99s Tale by Bilbo Baggins\\xe2\\x80\\x9d. (leafs through the book) This is wonderful!\\r\\nI miss the Shire. I spent all my childhood, pretending I was off somewhere else.. Off with you on one of your adventures! My own adventure turned out to be quite different.\\r\\nI\\xe2\\x80\\x99m not like you, Bilbo.\\r\\nPacked already?\\r\\nI thought you wanted to see the elves Sam.\\r\\nMore than anything.\\r\\nYou\\xe2\\x80\\x99re right Sam. We did what we set out to do. (shows the Ring on his palm) The Ring will be safe in Rivendell. I am ready to go home.\\r\\nI will take it! I will take it!\\r\\nI will take the Ring to Mordor. Though.. I do not know the way.\\r\\nIt's so light!\\r\\nAhh!\\r\\nWe will go through the mines.\\r\\nIt\\xe2\\x80\\x99s a riddle. Speak \\xe2\\x80\\x9cfriend\\xe2\\x80\\x9d and enter. What\\xe2\\x80\\x99s the Elvish word for friend?\\r\\nAah!\\r\\nThere's something down there.\\r\\nGollum?\\r\\nIt\\xe2\\x80\\x99s a pity Bilbo didn\\xe2\\x80\\x99t kill him when he had the chance!\\r\\nI wish the Ring had never come to me. I wish none of this had happened.\\r\\nAragorn! Aragorn!\\r\\nAgh!\\r\\nI'm alright. I'm not hurt.\\r\\nGandalf!\\r\\nGandalf!\\r\\nNo!!!!!!!\\r\\nNo!!!!!!!\\r\\nWhat will I see?\\r\\nIf you ask it of me, I will give you the One Ring.\\r\\nI cannot do this alone.\\r\\nThen I know what I must do. It\\xe2\\x80\\x99s just\\xe2\\x80\\xa6 I\\xe2\\x80\\x99m afraid to do it\\r\\nI know what you would say. And it would seem like wisdom but for the warning in my heart.\\r\\nThere is no other way!\\r\\nNo!\\r\\nYou are not yourself.\\r\\nNo!\\r\\nNo..ugh!\\r\\nIt has taken Boromir.\\r\\nStay away!\\r\\nCan you protect me from yourself?!\\r\\nWould you destroy it?\\r\\nI know. Look after the others, especially Sam. He will not understand.\\r\\nI wish the Ring had never come to me. I wish none of this had happened.\\r\\nNo Sam.\\r\\nGo back Sam! I\\xe2\\x80\\x99m going to Mordor alone.\\r\\nYou can\\xe2\\x80\\x99t swim! Sam!\\r\\nSam!\\r\\nOh Sam!\\r\\nCome on.\\r\\nMordor. I hope the others find a safer route.\\r\\nI don\\xe2\\x80\\x99t suppose we\\xe2\\x80\\x99ll ever see them again.\\r\\nSam, I\\xe2\\x80\\x99m glad you\\xe2\\x80\\x99re with me.\\r\\n\\r\\n\""
      ]
     },
     "execution_count": 94,
     "metadata": {},
     "output_type": "execute_result"
    }
   ],
   "source": [
    "# Here I open my character script and create a list to be associated with the script\n",
    "\n",
    "file_script = open(\"Frodo Script.txt\", \"rb\")\n",
    "# Check to make sure file loaded properly: \n",
    "file_script = file_script.read()\n",
    "\n",
    "char_script = [\"char_script\"]\n",
    "\n",
    "import pickle\n",
    "for key, value in enumerate(char_script):\n",
    "     with open(\"C:/Users/Zachary/Desktop/Python Class/Final Project/Pickled Data/\" + value + \".txt\", \"wb\") as file:\n",
    "            pickle.dump(file_script[key], file)\n",
    "\n",
    "data = {}\n",
    "for key, value in enumerate(char_script):\n",
    "    with open(\"C:/Users/Zachary/Desktop/Python Class/Final Project/Pickled Data/\" + value + \".txt\", \"rb\") as file:\n",
    "        data[value] = pickle.load(file)\n",
    "        \n",
    "data.keys()\n",
    "file_script\n"
   ]
  },
  {
   "cell_type": "code",
   "execution_count": null,
   "metadata": {},
   "outputs": [],
   "source": []
  },
  {
   "cell_type": "code",
   "execution_count": null,
   "metadata": {},
   "outputs": [],
   "source": []
  },
  {
   "cell_type": "code",
   "execution_count": null,
   "metadata": {},
   "outputs": [],
   "source": []
  },
  {
   "cell_type": "code",
   "execution_count": null,
   "metadata": {},
   "outputs": [],
   "source": []
  },
  {
   "cell_type": "code",
   "execution_count": null,
   "metadata": {},
   "outputs": [],
   "source": []
  },
  {
   "cell_type": "code",
   "execution_count": null,
   "metadata": {},
   "outputs": [],
   "source": []
  },
  {
   "cell_type": "code",
   "execution_count": null,
   "metadata": {},
   "outputs": [],
   "source": []
  },
  {
   "cell_type": "code",
   "execution_count": null,
   "metadata": {},
   "outputs": [],
   "source": []
  }
 ],
 "metadata": {
  "kernelspec": {
   "display_name": "Python 3",
   "language": "python",
   "name": "python3"
  },
  "language_info": {
   "codemirror_mode": {
    "name": "ipython",
    "version": 3
   },
   "file_extension": ".py",
   "mimetype": "text/x-python",
   "name": "python",
   "nbconvert_exporter": "python",
   "pygments_lexer": "ipython3",
   "version": "3.7.6"
  }
 },
 "nbformat": 4,
 "nbformat_minor": 4
}
