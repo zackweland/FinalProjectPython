{
 "cells": [
  {
   "cell_type": "code",
   "execution_count": 41,
   "metadata": {},
   "outputs": [
    {
     "name": "stdout",
     "output_type": "stream",
     "text": [
      "https://www.councilofelrond.com/subject/the-fellowship-of-the-ring-2/\n",
      "<function <lambda> at 0x0000019E1B0B64C8>\n",
      "{0: [('frodo', 386), ('gandalf', 273), ('ring', 150), ('aragorn', 144), ('sam', 138), ('boromir', 116), ('bilbo', 104), ('pippin', 101), ('merry', 100), ('legolas', 65), ('gimli', 56), ('looks', 54), ('hobbits', 53), ('saruman', 52), ('strider', 47), ('turns', 46), ('fellowship', 45), ('come', 39), ('arwen', 38), ('sauron', 37), ('walks', 35), ('away', 34), ('elrond', 34), ('sword', 34), ('know', 34), ('hand', 33), ('runs', 33), ('look', 33), ('suddenly', 30), ('sees', 29)]}\n",
      "0\n",
      "frodo, gandalf, ring, aragorn, sam, boromir, bilbo, pippin, merry, legolas, gimli, looks, hobbits, saruman\n"
     ]
    },
    {
     "data": {
      "image/png": "[encoded data removed]",
      "text/plain": [
       "<Figure size 720x576 with 1 Axes>"
      ]
     },
     "metadata": {
      "needs_background": "light"
     },
     "output_type": "display_data"
    }
   ],
   "source": [
    "# Web scraping, pickle imports\n",
    "import requests\n",
    "from bs4 import BeautifulSoup\n",
    "import pickle\n",
    "\n",
    "# Scrapes script data from scrapsfromtheloft.com\n",
    "def url_to_lotrscript(url):\n",
    "# Gives me the script from https://www.councilofelrond.com/subject/the-fellowship-of-the-ring-2/\n",
    "    webpage = requests.get(url).text\n",
    "    soup = BeautifulSoup(webpage, \"lxml\")\n",
    "    text = [p.text for p in soup.find(class_=\"post-content\").find_all('p')]\n",
    "    print(url)\n",
    "    return text\n",
    "\n",
    "# URL of LOTR: The Fellowship of the Ring Script\n",
    "url_1 = ['https://www.councilofelrond.com/subject/the-fellowship-of-the-ring-2/']\n",
    "\n",
    "# Name of script for dictionary\n",
    "lotr_script = [\"lotr_script\"]\n",
    "\n",
    "# Request script from website\n",
    "script = [url_to_lotrscript(x) for x in url_1]\n",
    "\n",
    "# Here I pickle my script and create a new directory for the script files\n",
    "for character, lines in enumerate(lotr_script):\n",
    "    with open(\"C:/Users/Zachary/Desktop/Python Class/Final Project/Pickled Data\" + lines + \".txt\", \"wb\") as file:\n",
    "        pickle.dump(script[character], file)\n",
    "\n",
    "# Here we load up pickled files\n",
    "data = {}\n",
    "for character, lines in enumerate(lotr_script):\n",
    "    with open(\"C:/Users/Zachary/Desktop/Python Class/Final Project/Pickled Data\" + lines + \".txt\", \"rb\") as file:\n",
    "        data[character] = pickle.load(file)\n",
    "\n",
    "# Double check to make sure data has been loaded properly: data.keys()\n",
    "# Double check to make sure script loaded properly: data.values()\n",
    "\n",
    "# Defining function to change the format of the script from a list of text to a string format, giving us one large paragraph of text\n",
    "def combotext(textlist):\n",
    "    combotext = ' '.join(textlist)\n",
    "    return combotext\n",
    "\n",
    "# Here we make the magic happen\n",
    "combodata = {key: [combotext(value)] for (key, value) in data.items()}\n",
    "\n",
    "# Check to make sure everything went smoothly with: print(combodata)\n",
    "\n",
    "# import panda module for easy application of cleaning functions\n",
    "import pandas as pd\n",
    "pd.set_option('max_colwidth',100)\n",
    "\n",
    "lotr_script = pd.DataFrame.from_dict(combodata).transpose()\n",
    "lotr_script.columns = ['script']\n",
    "lotr_script = lotr_script.sort_index()\n",
    "lotr_script\n",
    "\n",
    "# Now we start on the cleaning portion of the script. The first round included lowercasing text, removing punctuation and \n",
    "# removing words with numbers. Additional rounds included getting rid of ..., additional punctuation, and odd text (/n).\n",
    "# It is all combined into one for clarity sake.\n",
    "import re\n",
    "import string\n",
    "\n",
    "def scriptcleaner1(text):\n",
    "    text = text.lower()\n",
    "    text = re.sub('[%s]' % re.escape(string.punctuation), '', text)\n",
    "    text = re.sub('\\w*\\d\\w*', '', text)\n",
    "    text = re.sub('[‘’“”…]', '', text)\n",
    "    text = re.sub('\\n', '', text)\n",
    "    return text\n",
    "\n",
    "R1 = lambda x: scriptcleaner1(x)\n",
    "print(R1)\n",
    "\n",
    "# Apply all rounds of cleaning\n",
    "clean_script = pd.DataFrame(lotr_script.script.apply(R1))\n",
    "# Check to see what it looks like:\n",
    "clean_script.script.loc[0]"
   ]
  },
  {
   "cell_type": "code",
   "execution_count": null,
   "metadata": {},
   "outputs": [],
   "source": []
  }
 ],
 "metadata": {
  "kernelspec": {
   "display_name": "Python 3",
   "language": "python",
   "name": "python3"
  },
  "language_info": {
   "codemirror_mode": {
    "name": "ipython",
    "version": 3
   },
   "file_extension": ".py",
   "mimetype": "text/x-python",
   "name": "python",
   "nbconvert_exporter": "python",
   "pygments_lexer": "ipython3",
   "version": "3.7.6"
  }
 },
 "nbformat": 4,
 "nbformat_minor": 4
}
